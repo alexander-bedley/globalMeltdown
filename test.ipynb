{
 "cells": [
  {
   "cell_type": "code",
   "execution_count": null,
   "metadata": {},
   "outputs": [],
   "source": [
    "import pystac_client\n",
    "import odc.stac"
   ]
  },
  {
   "cell_type": "code",
   "execution_count": null,
   "metadata": {},
   "outputs": [],
   "source": [
    "catalog = pystac_client.Client.open(\"https://explorer.dea.ga.gov.au/stac\")"
   ]
  },
  {
   "cell_type": "code",
   "execution_count": null,
   "metadata": {},
   "outputs": [],
   "source": [
    "odc.stac.configure_rio(\n",
    "    cloud_defaults=True,\n",
    "    aws={\"aws_unsigned\": True},\n",
    ")"
   ]
  },
  {
   "cell_type": "code",
   "execution_count": null,
   "metadata": {},
   "outputs": [],
   "source": [
    "# Set a bounding box\n",
    "# [xmin, ymin, xmax, ymax] in latitude and longitude\n",
    "bbox = [153.3, -27.5, 153.4, -27.6]\n",
    "\n",
    "# Set a start and end date\n",
    "start_date = \"1988-01-01\"\n",
    "end_date = \"1988-12-31\"\n",
    "\n",
    "# Set product ID as the STAC \"collection\"\n",
    "collections = [\"ga_ls_fc_pc_cyear_3\"]"
   ]
  },
  {
   "cell_type": "code",
   "execution_count": null,
   "metadata": {},
   "outputs": [],
   "source": [
    "# Build a query with the parameters above\n",
    "query = catalog.search(\n",
    "    bbox=bbox,\n",
    "    collections=collections,\n",
    "    datetime=f\"{start_date}/{end_date}\",\n",
    ")\n",
    "\n",
    "# Search the STAC catalog for all items matching the query\n",
    "items = list(query.items())\n",
    "print(f\"Found: {len(items):d} datasets\")\n",
    "\n",
    "items"
   ]
  },
  {
   "cell_type": "code",
   "execution_count": null,
   "metadata": {},
   "outputs": [],
   "source": [
    "ds = odc.stac.load(\n",
    "             items=items,\n",
    "             crs=\"EPSG:3577\",\n",
    "             lat=(bbox[1], bbox[3]),\n",
    "             lon=(bbox[0], bbox[2]),\n",
    "             time=(\"2015-01-01\", \"2018-12-31\"))\n",
    "\n",
    "ds\n"
   ]
  },
  {
   "cell_type": "code",
   "execution_count": null,
   "metadata": {},
   "outputs": [],
   "source": [
    "# Print the loaded dataset\n",
    "print(\"Dataset info:\")\n",
    "print(ds)\n",
    "\n",
    "# Print the type of the bs_pc_10 data\n",
    "print(\"\\nType of bs_pc_10:\")\n",
    "print(type(ds.bs_pc_10))\n",
    "\n",
    "# Print the data type (dtype) of the band values\n",
    "print(\"\\nData type of bs_pc_10 values:\")\n",
    "print(ds.bs_pc_10.dtype)"
   ]
  },
  {
   "cell_type": "code",
   "execution_count": null,
   "metadata": {},
   "outputs": [],
   "source": [
    "ds.bs_pc_10[0]"
   ]
  },
  {
   "cell_type": "code",
   "execution_count": null,
   "metadata": {},
   "outputs": [],
   "source": [
    "ds.bs_pc_10[1]"
   ]
  },
  {
   "cell_type": "code",
   "execution_count": null,
   "metadata": {},
   "outputs": [],
   "source": [
    "ds.bs_pc_10[0][0]"
   ]
  },
  {
   "cell_type": "code",
   "execution_count": null,
   "metadata": {},
   "outputs": [],
   "source": [
    "bbox = [146.29, -39.10, 146.39, -39.00]\n",
    "\n",
    "# Set a start and end date\n",
    "start_date = \"2015-01-01\"\n",
    "end_date = \"2020-12-31\"\n",
    "\n",
    "# Set product ID as the STAC \"collection\"\n",
    "collections = [\"ga_ls_fc_pc_cyear_3\"]\n",
    "\n",
    "# Build a query with the parameters above\n",
    "query = catalog.search(\n",
    "    bbox=bbox,\n",
    "    collections=collections,\n",
    "    datetime=f\"{start_date}/{end_date}\",\n",
    ")\n",
    "\n",
    "# Search the STAC catalog for all items matching the query\n",
    "items = list(query.items())\n",
    "print(f\"Found: {len(items):d} datasets\")\n",
    "\n",
    "\n",
    "ds = odc.stac.load(\n",
    "             items=items,\n",
    "             crs=\"EPSG:3577\",\n",
    "             lat=(bbox[1], bbox[3]),\n",
    "             lon=(bbox[0], bbox[2]),\n",
    "             time=(\"2015-01-01\", \"2018-12-31\"))\n",
    "\n",
    "ds"
   ]
  },
  {
   "cell_type": "code",
   "execution_count": null,
   "metadata": {},
   "outputs": [],
   "source": [
    "ds.bs_pc_10.__len__()"
   ]
  },
  {
   "cell_type": "code",
   "execution_count": null,
   "metadata": {},
   "outputs": [],
   "source": [
    "ds.bs_pc_10[5]"
   ]
  },
  {
   "cell_type": "code",
   "execution_count": null,
   "metadata": {},
   "outputs": [],
   "source": [
    "ds.bs_pc_10[5][5]"
   ]
  },
  {
   "cell_type": "code",
   "execution_count": null,
   "metadata": {},
   "outputs": [],
   "source": [
    "ds.pv_pc_50[5][5]"
   ]
  },
  {
   "cell_type": "code",
   "execution_count": null,
   "metadata": {},
   "outputs": [],
   "source": [
    "ds.pv_pc_50[5].mean().values"
   ]
  },
  {
   "cell_type": "code",
   "execution_count": null,
   "metadata": {},
   "outputs": [],
   "source": [
    "for item in ds:\n",
    "\n",
    "    if item == 'qa':\n",
    "        continue\n",
    "\n",
    "    mean = ds[item].mean().values\n",
    "\n",
    "    print(f\"Mean value of {item}: {mean}\")"
   ]
  },
  {
   "cell_type": "code",
   "execution_count": null,
   "metadata": {},
   "outputs": [],
   "source": []
  },
  {
   "cell_type": "code",
   "execution_count": null,
   "metadata": {},
   "outputs": [],
   "source": []
  }
 ],
 "metadata": {
  "kernelspec": {
   "display_name": "comp3",
   "language": "python",
   "name": "python3"
  },
  "language_info": {
   "codemirror_mode": {
    "name": "ipython",
    "version": 3
   },
   "file_extension": ".py",
   "mimetype": "text/x-python",
   "name": "python",
   "nbconvert_exporter": "python",
   "pygments_lexer": "ipython3",
   "version": "3.12.5"
  }
 },
 "nbformat": 4,
 "nbformat_minor": 2
}
