{
 "cells": [
  {
   "cell_type": "code",
   "execution_count": null,
   "metadata": {},
   "outputs": [],
   "source": [
    "import sqlite3\n",
    "import pandas as pd"
   ]
  },
  {
   "cell_type": "code",
   "execution_count": null,
   "metadata": {},
   "outputs": [],
   "source": [
    "# Connecting to sqlite \n",
    "conn = sqlite3.connect('/data/oa3802fa25/GlobalMeltdown/fire.db')\n",
    "\n",
    "# Create a cursor object\n",
    "cursor = conn.cursor()"
   ]
  },
  {
   "cell_type": "code",
   "execution_count": null,
   "metadata": {},
   "outputs": [],
   "source": [
    "# set this to True if you run it the first time, to create the database\n",
    "first = False\n",
    "\n",
    "if first == True:\n",
    "    # Read CSV file into a pandas DataFrame\n",
    "    df = pd.read_csv('./Data/base_data_1986-2018.csv')\n",
    "\n",
    "    df.drop('time', axis=1, inplace=True)\n",
    "    df.drop('index_right', axis=1, inplace=True)\n",
    "    df.month = pd.to_datetime(df.month, format='%Y-%m')\n",
    "\n",
    "    # Write the DataFrame to the SQLite database\n",
    "    df.to_sql('ground_data', conn, if_exists='replace', index=False)\n",
    "\n",
    "    # Commit the changes\n",
    "    conn.commit()"
   ]
  },
  {
   "cell_type": "code",
   "execution_count": null,
   "metadata": {},
   "outputs": [],
   "source": [
    "cursor.execute('''SELECT * from ground_data LIMIT 10''')\n",
    "cursor.fetchall()"
   ]
  },
  {
   "cell_type": "code",
   "execution_count": null,
   "metadata": {},
   "outputs": [],
   "source": [
    "#Get all tables\n",
    "def get_all_tables(cursor):\n",
    "    sql_query = \"\"\"SELECT name FROM sqlite_master  \n",
    "      WHERE type='table';\"\"\"\n",
    "    cursor.execute(sql_query)\n",
    "    return cursor.fetchall()\n",
    "\n",
    "# Get column names and data types for each table\n",
    "def get_table_info(cursor, table_name):\n",
    "    cursor.execute(f'PRAGMA table_info({table_name})')\n",
    "    return cursor.fetchall()"
   ]
  },
  {
   "cell_type": "code",
   "execution_count": null,
   "metadata": {},
   "outputs": [],
   "source": [
    "tables = [table[0] for table in get_all_tables(cursor)]\n",
    "\n",
    "for table in tables:\n",
    "    print(f\"Table: {table}\")\n",
    "    for column in get_table_info(cursor, table):\n",
    "        print(f\"Column: {column[1]}, Type: {column[2]}\")\n",
    "    print(\"\\n\")"
   ]
  },
  {
   "cell_type": "code",
   "execution_count": null,
   "metadata": {},
   "outputs": [],
   "source": []
  },
  {
   "cell_type": "code",
   "execution_count": null,
   "metadata": {},
   "outputs": [],
   "source": []
  }
 ],
 "metadata": {
  "kernelspec": {
   "display_name": "comp3",
   "language": "python",
   "name": "python3"
  },
  "language_info": {
   "codemirror_mode": {
    "name": "ipython",
    "version": 3
   },
   "file_extension": ".py",
   "mimetype": "text/x-python",
   "name": "python",
   "nbconvert_exporter": "python",
   "pygments_lexer": "ipython3",
   "version": "3.11.2"
  }
 },
 "nbformat": 4,
 "nbformat_minor": 2
}
