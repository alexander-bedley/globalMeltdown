{
 "cells": [
  {
   "cell_type": "code",
   "execution_count": null,
   "metadata": {},
   "outputs": [],
   "source": [
    "import sqlite3\n",
    "import pandas as pd\n",
    "\n",
    "import pystac_client\n",
    "import odc.stac"
   ]
  },
  {
   "cell_type": "code",
   "execution_count": null,
   "metadata": {},
   "outputs": [],
   "source": [
    "# Connecting to sqlite \n",
    "conn = sqlite3.connect('fire.db')\n",
    "\n",
    "# Create a cursor object\n",
    "cursor = conn.cursor()"
   ]
  },
  {
   "cell_type": "code",
   "execution_count": null,
   "metadata": {},
   "outputs": [],
   "source": [
    "# set this to True if you run it the first time, to create the database\n",
    "first = False\n",
    "\n",
    "if first == True:\n",
    "    # Read CSV file into a pandas DataFrame\n",
    "    df = pd.read_csv('./Data/base_data_1986-2018.csv')\n",
    "\n",
    "    df.drop('time', axis=1, inplace=True)\n",
    "    df.drop('index_right', axis=1, inplace=True)\n",
    "    df.month = pd.to_datetime(df.month, format='%Y-%m')\n",
    "\n",
    "    # Write the DataFrame to the SQLite database\n",
    "    df.to_sql('ground_data', conn, if_exists='replace', index=False)\n",
    "\n",
    "    # Commit the changes\n",
    "    conn.commit()"
   ]
  },
  {
   "cell_type": "code",
   "execution_count": null,
   "metadata": {},
   "outputs": [],
   "source": [
    "cursor.execute('''SELECT * from ground_data LIMIT 10''')\n",
    "cursor.fetchall()"
   ]
  },
  {
   "cell_type": "code",
   "execution_count": null,
   "metadata": {},
   "outputs": [],
   "source": [
    "#Get all tables\n",
    "def get_all_tables(cursor):\n",
    "    sql_query = \"\"\"SELECT name FROM sqlite_master  \n",
    "      WHERE type='table';\"\"\"\n",
    "    cursor.execute(sql_query)\n",
    "    return cursor.fetchall()\n",
    "\n",
    "# Get column names and data types for each table\n",
    "def get_table_info(cursor, table_name):\n",
    "    cursor.execute(f'PRAGMA table_info({table_name})')\n",
    "    return cursor.fetchall()"
   ]
  },
  {
   "cell_type": "code",
   "execution_count": null,
   "metadata": {},
   "outputs": [],
   "source": [
    "tables = [table[0] for table in get_all_tables(cursor)]\n",
    "\n",
    "for table in tables:\n",
    "    print(f\"Table: {table}\")\n",
    "    for column in get_table_info(cursor, table):\n",
    "        print(f\"Column: {column[1]}, Type: {column[2]}\")\n",
    "    print(\"\\n\")"
   ]
  },
  {
   "cell_type": "code",
   "execution_count": null,
   "metadata": {},
   "outputs": [],
   "source": [
    "catalog = pystac_client.Client.open(\"https://explorer.dea.ga.gov.au/stac\")"
   ]
  },
  {
   "cell_type": "code",
   "execution_count": null,
   "metadata": {},
   "outputs": [],
   "source": [
    "odc.stac.configure_rio(\n",
    "    cloud_defaults=True,\n",
    "    aws={\"aws_unsigned\": True},\n",
    ")"
   ]
  },
  {
   "cell_type": "code",
   "execution_count": null,
   "metadata": {},
   "outputs": [],
   "source": [
    "def get_month_lat_long(cursor):\n",
    "    sql_query = '''SELECT strftime('%Y-%m', month) as month, lat, lon from ground_data LIMIT 100'''\n",
    "    cursor.execute(sql_query)\n",
    "    return cursor.fetchall()"
   ]
  },
  {
   "cell_type": "code",
   "execution_count": null,
   "metadata": {},
   "outputs": [],
   "source": [
    "data_tiles = get_month_lat_long(cursor)\n",
    "\n",
    "print(len(data_tiles))\n",
    "\n",
    "for data in data_tiles:\n",
    "\n",
    "    bbox = [data[2] - 0.05, data[1] - 0.05, data[2] + 0.05, data[1] + 0.05]\n",
    "\n",
    "    start_date = f\"{data[0][:4]}-01-01\"\n",
    "    end_date = f\"{data[0][:4]}-12-31\"\n",
    "\n",
    "    print(f\"Searching for data in {start_date} to {end_date} for lat: {data[1]} and long: {data[2]}\")\n",
    "\n",
    "    # Set product ID as the STAC \"collection\"\n",
    "    collections = [\"ga_ls_fc_pc_cyear_3\"]\n",
    "\n",
    "    # Build a query with the parameters above\n",
    "    query = catalog.search(\n",
    "        bbox=bbox,\n",
    "        collections=collections,\n",
    "        datetime=f\"{start_date}/{end_date}\",\n",
    "    )\n",
    "\n",
    "    if len(list(query.items())) == 0:\n",
    "        print(\"No data found\")\n",
    "        continue\n",
    "\n",
    "    # Search the STAC catalog for all items matching the query\n",
    "    items = list(query.items())\n",
    "    print(f\"Found: {len(items):d} datasets\")\n",
    "\n",
    "    # Load the data using the odc.stac module\n",
    "    ds = odc.stac.load(\n",
    "                items=items,\n",
    "                crs=\"EPSG:3577\",\n",
    "                lat=(bbox[1], bbox[3]),\n",
    "                lon=(bbox[0], bbox[2]),\n",
    "                time=(start_date, end_date))"
   ]
  },
  {
   "cell_type": "code",
   "execution_count": null,
   "metadata": {},
   "outputs": [],
   "source": [
    "for item in ds:\n",
    "\n",
    "    if item == 'qa':\n",
    "        continue\n",
    "\n",
    "    mean = ds[item].mean().values\n",
    "\n",
    "    print(f\"Mean value of {item}: {mean}\")"
   ]
  }
 ],
 "metadata": {
  "kernelspec": {
   "display_name": "comp3",
   "language": "python",
   "name": "python3"
  },
  "language_info": {
   "codemirror_mode": {
    "name": "ipython",
    "version": 3
   },
   "file_extension": ".py",
   "mimetype": "text/x-python",
   "name": "python",
   "nbconvert_exporter": "python",
   "pygments_lexer": "ipython3",
   "version": "3.12.5"
  }
 },
 "nbformat": 4,
 "nbformat_minor": 2
}
